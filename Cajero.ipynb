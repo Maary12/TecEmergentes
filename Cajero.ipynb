{
 "cells": [
  {
   "cell_type": "code",
   "execution_count": 40,
   "metadata": {},
   "outputs": [],
   "source": [
    "from random import choice\n",
    "from experta import *\n",
    "\n",
    "class Cajero(Fact):\n",
    "    \n",
    "    pass\n",
    "\n",
    "class Retiro(KnowledgeEngine):\n",
    "    @Rule(Cajero(NIP='incorrecto'))\n",
    "    def incorrecto_retiro(self):\n",
    "        print(\"no autorizado\")\n",
    "        \n",
    "    @Rule(Cajero(pago='no autorizado'))\n",
    "    def no_autorizado_retiro(self):\n",
    "        print(\"explicar si\")\n",
    "    \n",
    "    @Rule(Cajero(NIP='correcto') | (Cajero(pago='no autorizado')))\n",
    "    def decision(self, cajero):\n",
    "        print(\"NIP correcto\")\n",
    "    \n",
    "    @Rule(Cajero(pago='autorizado') | (Cajero(explicar='si')))\n",
    "    def decision(self, cajero):\n",
    "        print(\"explicar si\")"
   ]
  },
  {
   "cell_type": "code",
   "execution_count": 59,
   "metadata": {},
   "outputs": [
    {
     "name": "stdout",
     "output_type": "stream",
     "text": [
      "no autorizado\n"
     ]
    }
   ],
   "source": [
    "r=Retiro()\n",
    "r.reset()\n",
    "r.declare(Cajero(NIP=choice(['correcto', 'incorrecto'])))\n",
    "r.run()"
   ]
  },
  {
   "cell_type": "code",
   "execution_count": 60,
   "metadata": {},
   "outputs": [
    {
     "name": "stdout",
     "output_type": "stream",
     "text": [
      "explicar si\n"
     ]
    }
   ],
   "source": [
    "r=Retiro()\n",
    "r.reset()\n",
    "r.declare(Cajero(pago=choice(['no autorizado', 'autorizado'])))\n",
    "r.run()"
   ]
  },
  {
   "cell_type": "code",
   "execution_count": null,
   "metadata": {},
   "outputs": [],
   "source": []
  }
 ],
 "metadata": {
  "kernelspec": {
   "display_name": "Python 3",
   "language": "python",
   "name": "python3"
  },
  "language_info": {
   "codemirror_mode": {
    "name": "ipython",
    "version": 3
   },
   "file_extension": ".py",
   "mimetype": "text/x-python",
   "name": "python",
   "nbconvert_exporter": "python",
   "pygments_lexer": "ipython3",
   "version": "3.7.6"
  }
 },
 "nbformat": 4,
 "nbformat_minor": 4
}
